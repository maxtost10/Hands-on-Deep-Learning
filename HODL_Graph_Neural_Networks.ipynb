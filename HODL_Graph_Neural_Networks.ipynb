{
 "cells": [
  {
   "cell_type": "code",
   "execution_count": 1,
   "metadata": {},
   "outputs": [],
   "source": [
    "# Uncomment for Colab (not recommended)\n",
    "# import os\n",
    "# import torch\n",
    "# os.environ['TORCH'] = torch.__version__\n",
    "# print(torch.__version__)\n",
    "# !pip install -q torch-scatter -f https://data.pyg.org/whl/torch-${TORCH}.html\n",
    "# !pip install -q torch-sparse -f https://data.pyg.org/whl/torch-${TORCH}.html\n",
    "# !pip install -q git+https://github.com/pyg-team/pytorch_geometric.git\n",
    "# !pip install multiset\n",
    "# !pip install torchmetrics"
   ]
  },
  {
   "cell_type": "markdown",
   "metadata": {},
   "source": [
    "# Graph Neural Networks\n",
    "\n",
    "This session will introduce you to the basic concepts of graph neural networks. We will be using the popular deep learning framework pytorch and the graph specific PyG framework. This allows us to work with graphs using the same pytorch functionalities we have seen in the other lab sessions. However, we will first start with learning with sets instead of graphs as a warmup."
   ]
  },
  {
   "cell_type": "markdown",
   "metadata": {
    "id": "aKhEmskJ4So7"
   },
   "source": [
    "For todays session it's fine if we only use the cpu."
   ]
  },
  {
   "cell_type": "code",
   "execution_count": null,
   "metadata": {
    "colab": {
     "base_uri": "https://localhost:8080/"
    },
    "id": "X5_mIaYNLJbS",
    "outputId": "51f778cb-3983-4412-b155-371cf36324dd"
   },
   "outputs": [],
   "source": [
    "import torch\n",
    "device = \"cuda\" if torch.cuda.is_available() else \"cpu\"\n",
    "print(f\"Using {device} device\")"
   ]
  },
  {
   "cell_type": "markdown",
   "metadata": {
    "id": "7_xI0UEEVwSl"
   },
   "source": [
    "# Learning with Sets\n",
    "\n",
    "Before we start with Graph Neural Networks, we zoom in on a related task: Learning functions on sets. A set is a collection of elements, where the order of the elements itself does not matter. The important thing is only wheter an element is part of the set or if it is not in the set.\n",
    "\n",
    "For example lets look at the the following set $A = \\{ h, o, d, l, i, s, g, r, e, a, t\\}$\n",
    "\n",
    "herer we have $o \\in A$ but the element $x \\notin A$.\n",
    "\n",
    "\n",
    "\n"
   ]
  },
  {
   "cell_type": "code",
   "execution_count": null,
   "metadata": {
    "colab": {
     "base_uri": "https://localhost:8080/"
    },
    "id": "ElIOKE7lVtC1",
    "outputId": "038dec0e-0826-43e5-b86f-771cdd873639"
   },
   "outputs": [],
   "source": [
    "A = set('hodlisgreat')\n",
    "print('o is in A?: ', 'o' in A)\n",
    "print('x is in A?: ', 'x' in A)"
   ]
  },
  {
   "cell_type": "markdown",
   "metadata": {
    "id": "qPX049CWVq-F"
   },
   "source": [
    "Similarly, we can define the notion of a multiset. In a multiset we still do not care about the order of the elements (unlike in a vector). However, an element can now appear multiple times in the same multiset.\n",
    "\n",
    "For example: the multiset $B = \\{ d,i,a,m,o,n,d,h,a,n,d,s \\}$ does contain the elements $a$ and $n$ which appear more than once."
   ]
  },
  {
   "cell_type": "code",
   "execution_count": null,
   "metadata": {
    "colab": {
     "base_uri": "https://localhost:8080/"
    },
    "id": "KUk46NDRUvXE",
    "outputId": "613378c5-8779-4ace-e375-a5472ab2fdea"
   },
   "outputs": [],
   "source": [
    "from multiset import *\n",
    "B = Multiset('diamondhands')\n",
    "print(B)"
   ]
  },
  {
   "cell_type": "markdown",
   "metadata": {
    "id": "_Okyugt6WvzS"
   },
   "source": [
    "Is the multiset $ C = \\{m,a,d,d,i,s,o,n,h,a,n,d\\}$ the same set as B?"
   ]
  },
  {
   "cell_type": "code",
   "execution_count": null,
   "metadata": {
    "colab": {
     "base_uri": "https://localhost:8080/"
    },
    "id": "dt6w8YPPW6mH",
    "outputId": "93ab02f8-b219-4d99-f13f-7f70107ec987"
   },
   "outputs": [],
   "source": [
    "#TODO create multiset C maddisonhand\n",
    "C = Multiset([])\n",
    "\n",
    "print('are the two multisets equal?', B == C)"
   ]
  },
  {
   "cell_type": "markdown",
   "metadata": {
    "id": "i8LBl-y9XO_a"
   },
   "source": [
    "But why do we care about sets and multisets?\n",
    "\n",
    "Whenever we want to apply deep learning to some data, we must first represent the data as tensors. Now a naive way to represent sets as tensors would be to just write every element in one entry of the tensor. For example, we could write the set $S  = { 3, 2, 4, 1}$ as"
   ]
  },
  {
   "cell_type": "code",
   "execution_count": 6,
   "metadata": {
    "id": "Q21ZIy_VX3HU"
   },
   "outputs": [],
   "source": [
    "S = {3, 2, 4, 1}\n",
    "torch_S = torch.tensor([3, 2, 4, 1])"
   ]
  },
  {
   "cell_type": "markdown",
   "metadata": {
    "id": "N6UQNme6YC0V"
   },
   "source": [
    "However, the order of a set does not matter, so we could have also written S the following way."
   ]
  },
  {
   "cell_type": "code",
   "execution_count": 7,
   "metadata": {
    "id": "RKqdZbEEYJT9"
   },
   "outputs": [],
   "source": [
    "S2 = {1, 2, 3, 4}\n",
    "# TODO: write the tensor representation of S2\n",
    "torch_S2 = torch.tensor([]) # = ...\n"
   ]
  },
  {
   "cell_type": "code",
   "execution_count": null,
   "metadata": {
    "colab": {
     "base_uri": "https://localhost:8080/",
     "height": 176
    },
    "id": "Cm4TQdUNYXtq",
    "outputId": "2f4e54cd-8d76-438b-f520-c8721b122567"
   },
   "outputs": [],
   "source": [
    "print(\"are the sets equal?\", S == S2)\n",
    "print(\"are the tensors equal?\", torch.all(torch_S.eq(torch_S2)).item())"
   ]
  },
  {
   "cell_type": "markdown",
   "metadata": {
    "id": "loyg7fDmbs1b"
   },
   "source": [
    "## Sets with MLPs\n",
    "\n",
    "So the two sets are equal, however, their tensor representation is not!\n",
    "This is very problematic if we want to use sets for learning a function. Then we want the function to always output the same value for the same set.  \n",
    "\n",
    "Let's look at a simple task. Given a (multi)set of 11 numbers from 1 to 20. If more than half of the entries is above 10, we want to predict 1 and 0 otherwise.\n"
   ]
  },
  {
   "cell_type": "code",
   "execution_count": null,
   "metadata": {
    "id": "TT1WxVU4t62Z"
   },
   "outputs": [],
   "source": [
    "# Dataset creation\n",
    "import numpy as np\n",
    "def f(x):\n",
    "  return 1.0 if (torch.sum(x > 10) - torch.sum(x <= 10)) > 0 else 0\n",
    "np.random.seed(0)\n",
    "dataset = [torch.tensor([np.random.randint(1,21) for i in range(11)]).float() for _ in range(1000)]\n",
    "y = [torch.tensor(f(x)) for x in dataset]\n",
    "\n",
    "# Show some example pairs\n",
    "(dataset[0], y[0]), (dataset[1], y[1]), (dataset[2], y[2])"
   ]
  },
  {
   "cell_type": "markdown",
   "metadata": {
    "id": "kcMa7yTUyqBA"
   },
   "source": [
    "We want to first solve it using our beloved MLP, by simply passing the tensor representation of the set as input. \n",
    "\n",
    "![mlp operating on a set](mlp_on_set.png)\n",
    "\n",
    "Complete the training loop and model definitions in order to train an MLP for this task.\n"
   ]
  },
  {
   "cell_type": "code",
   "execution_count": 10,
   "metadata": {
    "id": "lF4tyhve4kFt"
   },
   "outputs": [],
   "source": [
    "def validate(model, val_loader,y_loader):\n",
    "  model.eval()\n",
    "  with torch.no_grad():\n",
    "    acc = 0\n",
    "    total = 0\n",
    "    for i, data in enumerate(val_loader):\n",
    "      data = data.float().to(device)\n",
    "      pred = model(data)\n",
    "      pred = pred.argmax()\n",
    "      total += 1\n",
    "      ground_truth = y_loader[i].item()\n",
    "      # TODO: increase the count for correctly predicted items by 1\n",
    "      # acc += ...\n",
    "    model.train()\n",
    "  return (1.0*acc)/total"
   ]
  },
  {
   "cell_type": "code",
   "execution_count": 11,
   "metadata": {
    "id": "2np58nV2cFRZ"
   },
   "outputs": [],
   "source": [
    "import torch.optim as optim\n",
    "from torch_geometric.loader import DataLoader\n",
    "\n",
    "def train_model(model, dataset,y, epochs = 40, lr = 0.001):\n",
    "  # define our loss and optimizer\n",
    "  criterion = torch.nn.CrossEntropyLoss()\n",
    "  optimizer = optim.Adam(model.parameters(), lr=lr)\n",
    "\n",
    "  val_split = 0.8\n",
    "  train_size = int(val_split*len(dataset))\n",
    "  train_loader = dataset[:train_size]\n",
    "  val_loader = dataset[train_size:]\n",
    "  y_loader = y[train_size:]\n",
    "\n",
    "  # train the model\n",
    "  model.train()\n",
    "\n",
    "  for epoch in range(epochs):\n",
    "      running_loss = 0.0\n",
    "      for i, data in enumerate(train_loader):\n",
    "          optimizer.zero_grad()\n",
    "\n",
    "          data = data.float().to(device)\n",
    "          # TODO: calculate the model predictions for the data\n",
    "          # pred = ...\n",
    "          loss = criterion(pred, y[i].to(torch.long).to(device))\n",
    "          loss.backward()\n",
    "\n",
    "          optimizer.step()\n",
    "\n",
    "          running_loss += loss.item()\n",
    "      print(f'Epoch: {epoch + 1} loss: {running_loss / len(train_loader):.5f}\\t validation acc: {validate(model, val_loader,y_loader):.5f} train acc: {validate(model, train_loader,y):.5f}')\n",
    "\n",
    "      running_loss = 0.0"
   ]
  },
  {
   "cell_type": "code",
   "execution_count": null,
   "metadata": {
    "id": "MxtcfavM57pO"
   },
   "outputs": [],
   "source": [
    "#TODO: increase the dimension of the mlp\n",
    "# dim = ...\n",
    "dim = 256\n",
    "model = torch.nn.Sequential(torch.nn.Linear(11, dim), torch.nn.ReLU(), torch.nn.Linear(dim, dim), torch.nn.ReLU(), torch.nn.Linear(dim, 2)).to(device)\n",
    "\n",
    "\n",
    "train_model(model, dataset,y )"
   ]
  },
  {
   "cell_type": "markdown",
   "metadata": {
    "id": "ZxhzLtLKwbN3"
   },
   "source": [
    "Hmm, we already have quite some difficulty training this model (you should expect to get around 70% accuracy). Why is this? What are we doing wrong?\n",
    "\n",
    "Let's inspect the model predictions on the first 100 datapoints. We want to find a datapoint for which our predictions are correct and then reshuffle the entries and check if the prediction is still correct. Remember, for a set, the order of the elements does not matter, so the prediction should remain the same!"
   ]
  },
  {
   "cell_type": "code",
   "execution_count": null,
   "metadata": {
    "id": "2LAHXWXUnMhd"
   },
   "outputs": [],
   "source": [
    "model.eval()\n",
    "for i in range(100):\n",
    "  a = dataset[i].detach().clone().to(device)\n",
    "\n",
    "\n",
    "  # TODO: get the model prediction (you can use argmax()), and the groundtruth value from y\n",
    "  #pred = #...\n",
    "  #groundtruth = #...\n",
    "\n",
    "  # TODO: check if pred and groundtruth are the same, if not we want to skip\n",
    "  # ...\n",
    "\n",
    "  print(\"datapoint: \")\n",
    "  print(a)\n",
    "\n",
    "  print(\"ground truth is \", groundtruth)\n",
    "  print(\"prediction is \", pred)\n",
    "\n",
    "\n",
    "  # Let's check if reshuffling the tensor changes the prediction\n",
    "  for x in range(100):\n",
    "\n",
    "    a = a.cpu().numpy()\n",
    "    # TODO: do a random shuffle of a, you can call np.random.shuffle(x)\n",
    "    # np. ...\n",
    "\n",
    "\n",
    "    # cast it back to a torch tensor\n",
    "    a = torch.tensor(a).float().to(device)\n",
    "\n",
    "\n",
    "    #TODO: calculate the new model prediction for a\n",
    "    #new_pred = ...\n",
    "\n",
    "    if new_pred != y[i].item():\n",
    "      print(\"same multiset: \")\n",
    "      print(a)\n",
    "      print(\"model predicts \", new_pred.item())\n",
    "      break\n",
    "  break"
   ]
  },
  {
   "cell_type": "markdown",
   "metadata": {
    "id": "Aqr1Fe5VyGh5"
   },
   "source": [
    "The prediction actually changes if we reshuffle the tensor :/, this is something we do not want for our model. But maybe we can use a more elaborate architecture to handle this case."
   ]
  },
  {
   "cell_type": "markdown",
   "metadata": {},
   "source": [
    "## Deepsets\n",
    "\n",
    "DeepSets are a particular architecture which is designed to be **permutation-invariant**, meaning the prediction does not change when we reshuffle (or permute) the inputs of the model. Whenever we want to learn something where the input is a set, we would desire our model to be **permutation-invariant**.\n",
    "\n",
    "The idea behind DeepSets is relatively straightforward. First, we want to encode the elements of the set independently from each other. This gives us an embedding of each element. Then in the second step, we want to combine all of these embeddings to get an embedding of the whole set. This combination step is also reffered to as an **aggregation**. Finally, we operate on all the aggregated embeddings to get a prediction.\n",
    "\n",
    "We can choose the aggregation step in a careful way to be invariant of the order. One of the most common operations for combining the element embeddings to a single set embedding is to take the sum. And because addition commutes (i.e. a+b = b+a), the sum of the vectors will always be the same, irregardless of the order. \n",
    "\n",
    "The key insight here is that the aggregate step can be simple, as long as the embed and operate steps are sufficiently powerful (for example, if they are MLPs), one can show that this architecture can approximate any set function.\n",
    "\n",
    "![deepset_architecture](deepset_architecture.png)\n",
    "\n",
    "Let's look at a step by step example. To encode the elements into vectors, we use a linear layer.\n"
   ]
  },
  {
   "cell_type": "code",
   "execution_count": null,
   "metadata": {
    "id": "PVvpJMIA0W79"
   },
   "outputs": [],
   "source": [
    "S = torch.tensor([1,2,3,4]).reshape((4,1)).float()\n",
    "S2 = torch.tensor([3,2,4,1]).reshape((4,1)).float()\n",
    "\n",
    "enc_dim = 3\n",
    "encode_elements = torch.nn.Linear(1, enc_dim)\n",
    "\n",
    "elements_S = []\n",
    "elements_S2 = []\n",
    "\n",
    "for element in S:\n",
    "  #TODO: encode element\n",
    "  # element = ...\n",
    "  elements_S.append(element)\n",
    "\n",
    "for element in S2:\n",
    "  #TODO: encode element\n",
    "  # element = ...\n",
    "  elements_S2.append(element)"
   ]
  },
  {
   "cell_type": "markdown",
   "metadata": {
    "id": "fQ7EEN3j1j0c"
   },
   "source": [
    "Now we want to compute the embedding of the whole set. We have to sum up all the vectors in elements_S and elements_S2 respectively."
   ]
  },
  {
   "cell_type": "code",
   "execution_count": null,
   "metadata": {
    "id": "xExCnPJA1i3S"
   },
   "outputs": [],
   "source": [
    "sum_S = torch.zeros(enc_dim)\n",
    "sum_S2 = torch.zeros(enc_dim)\n",
    "\n",
    "\n",
    "#TODO calculate the sum, and go over each element\n",
    "# ...\n",
    "\n",
    "for x in elements_S:\n",
    "    ...\n",
    "\n",
    "for x in elements_S2:\n",
    "    ...\n",
    "\n",
    "\n",
    "print(sum_S)\n",
    "print(sum_S2)"
   ]
  },
  {
   "cell_type": "markdown",
   "metadata": {
    "id": "TbnrJC2L3DV2"
   },
   "source": [
    "also compute the embedding for S3, ...\n",
    "is the embedding different? the same?"
   ]
  },
  {
   "cell_type": "code",
   "execution_count": null,
   "metadata": {
    "id": "OB25_ORE3Cyc"
   },
   "outputs": [],
   "source": [
    "S3 = torch.tensor([4,5,2,1]).reshape((4,1)).float()\n",
    "# todo calculate the embedding for S3"
   ]
  },
  {
   "cell_type": "markdown",
   "metadata": {
    "id": "J3nuQCQF3P7D"
   },
   "source": [
    "Now that we are familiar with the concept of learning with Sets using DeepSet, let's tackle the task from before again. Complete the missing lines."
   ]
  },
  {
   "cell_type": "code",
   "execution_count": null,
   "metadata": {
    "id": "A8_p-ETRqIdw"
   },
   "outputs": [],
   "source": [
    "class DeepSet(torch.nn.Module):\n",
    "\n",
    "    def __init__(self, embedding_dim, hidden_dim):\n",
    "        super().__init__()\n",
    "\n",
    "        # TODO: specify two MLPs, one for the encoding part and for calculating the output\n",
    "\n",
    "        # self.encode   = torch.nn.Sequential(...) # specify an MLP with 3 linear layers (1,embedding_dim)(embedding_dim,embedding_dim),(embedding_dim,embedding_dim) with ReLU activations in between\n",
    "        # self.deepset  = torch.nn.Sequential(...) # specify an MLP with 3 linear layers (embedding_dim,hidden_dim)(hidden_dim,hidden_dim),(hidden_dim,hidden_dim) with ReLU activations in between\n",
    "\n",
    "    def forward(self, data):\n",
    "\n",
    "        # TODO: we need to reshape our data from (1, 11) to (11, 1), you can reshape a tensor x by calling x.reshape((a,b))\n",
    "        # this allows us to apply the MLP elementwise for each entry in data\n",
    "        # data = ...\n",
    "\n",
    "        # encodings = ... # apply the encode MLP\n",
    "        # encodings = ... # sum up the different embeddings to a single vector, you can call x.sum(dim=) where dim must be -1 or 0\n",
    "\n",
    "        # pred = ... # apply the deepset MLP()\n",
    "\n",
    "        return pred\n",
    "\n"
   ]
  },
  {
   "cell_type": "code",
   "execution_count": null,
   "metadata": {
    "id": "IZ6Vy7XU60cW"
   },
   "outputs": [],
   "source": [
    "import random\n",
    "seed = 1\n",
    "random.seed(seed)\n",
    "np.random.seed(seed)\n",
    "torch.manual_seed(seed)\n",
    "torch.cuda.manual_seed(seed)\n",
    "\n",
    "edim = 16\n",
    "ddim = 256\n",
    "\n",
    "#TODO: create the DeepSet model with the right dimensions\n",
    "# model = ....\n",
    "\n",
    "train_model(model,dataset,y ,epochs = 40)"
   ]
  },
  {
   "cell_type": "markdown",
   "metadata": {
    "id": "Qp8n9vOwr9wb"
   },
   "source": [
    "Now let's check again if our predictions are more robust for sets."
   ]
  },
  {
   "cell_type": "code",
   "execution_count": null,
   "metadata": {
    "id": "HeyAKfgMozVl"
   },
   "outputs": [],
   "source": [
    "model.eval()\n",
    "for i in range(100):\n",
    "\n",
    "  # find a datapoint where the prediction is correct\n",
    "  a = dataset[i].detach().clone().to(device)\n",
    "  if int(y[i].item()) != int(model(a).argmax().item()):\n",
    "    continue\n",
    "\n",
    "  print(\"datapoint: \")\n",
    "  print(a)\n",
    "\n",
    "  print(\"ground truth is \", y[i].item())\n",
    "  print(\"prediction is \", model(a).argmax().item())\n",
    "\n",
    "  for x in range(100):\n",
    "    np.random.shuffle(a.cpu().numpy())\n",
    "    a = torch.tensor(a).float().to(device)\n",
    "    pred = model(a)\n",
    "\n",
    "    new_pred = pred.argmax()\n",
    "    if new_pred != y[i].item():\n",
    "      print(\"same multiset: \")\n",
    "      print(a)\n",
    "      print(\"model predicts \", new_pred.item())\n",
    "      break\n",
    "  else:\n",
    "    print(\"found no counter example\")\n",
    "  break"
   ]
  },
  {
   "cell_type": "markdown",
   "metadata": {
    "id": "I6ClOABX3cFi"
   },
   "source": [
    "Very well!\n",
    "\n",
    "We have seen that using an architecture such as DeepSet we can learn with sets and do our computations in a **permutation-invariant** way so the order of the elements does not matter. You will see that when we do computations in graphs this trick will be very vital to successful learning on graphs."
   ]
  },
  {
   "cell_type": "markdown",
   "metadata": {
    "id": "WXbVXuJ_tqGD"
   },
   "source": [
    "# Graphs\n",
    "Because this notebook is all about graphs, lets do a quick refresher on the most important graph terms.\n",
    "Informally speaking, you can think of a graph as some points that are connected through lines between them.\n",
    "A bit more formal, a graph $G$ is defined as a set of nodes $V$ and edges $E$ (Note, we already want to use sets at some point). An edge $e \\in E$ is given by two nodes that it connects, i.e. $e = (u,v)$, connects the node $u$ with node $v$. Whenever we talk about graphs, we usually talk about _undirected_ graphs. In an undirected graph every edge $e$ is bidirectional, meaning it can be traversed in both directions.\n",
    "\n",
    "We want to quickly go over the most important graph termonology.\n",
    "\n",
    "* ***Node***: part of the graph, sometimes also called vertex\n",
    "* ***Edge***: connects two nodes\n",
    "* **Neighborhood**: the nodes that have distance 1 from you, i.e. $N(u)$ are all neighbors of node $u$.\n",
    "* **Degree**: The number of edges incident to a node\n",
    "* **r-hop neighborhood** all nodes that have at most distance $r$ from a node.\n",
    "* **cycle**: a path that starts at $u$ and ends at $u$.\n",
    "\n"
   ]
  },
  {
   "cell_type": "markdown",
   "metadata": {
    "id": "miI0yTnDxJHW"
   },
   "source": [
    "![Untitled Diagram.drawio(1).png](data:image/png;base64,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)"
   ]
  },
  {
   "cell_type": "markdown",
   "metadata": {
    "id": "FhqMkCFF9D33"
   },
   "source": [
    "There are 7 nodes and 7 edges in the graph.\n",
    "\n",
    "The neighborhood of $u$ consists of the yellow nodes.\n",
    "Node $u$ has degree 4.\n",
    "And the $2$-hop neighborhood of $u$ consists of the yellow and orange nodes.\n",
    "\n",
    "There is one cycle in the graph, where you can start at $u$, visit a yellow node, visit the second yellow node and go back to $u$ again. Sometimes we also refer to this as a triangle (=cycle of length 3)"
   ]
  },
  {
   "cell_type": "markdown",
   "metadata": {
    "id": "YBqO6YBexLYJ"
   },
   "source": [
    "### Graph Representation\n",
    "\n",
    "A key question is how do we represent graphs. One of the most common ways to represent them are using an adjecency matrix $A$. Each entry $a_{ij}$ of the adjecency matrix indicates if node $i$ and $j$ are connected.\n",
    "\n",
    "Let's have a look at an example graph.\n",
    "To work with graphs, we can use the popular library called networkx. Using this library we can easily define a graph, modify it, draw it and compute metrics such as shortest paths on them. If you want to do something specific on the graph, most likely there is a way to easily do it with some networkx function.\n",
    "\n"
   ]
  },
  {
   "cell_type": "code",
   "execution_count": null,
   "metadata": {
    "id": "p9HTfL9EKLFB"
   },
   "outputs": [],
   "source": [
    "import networkx as nx\n",
    "import numpy as np\n",
    "\n",
    "# Build a graph using an adjecency matrix A\n",
    "\n",
    "A = np.array([[0, 1, 0],\n",
    "              [1, 0, 1],\n",
    "              [0, 1, 0]])\n",
    "\n",
    "# using nx.from_numpy_array we can convert the adjecency matrix to a graph for networkx\n",
    "G = nx.from_numpy_array(A)\n"
   ]
  },
  {
   "cell_type": "markdown",
   "metadata": {
    "id": "bY0xjARW-PZ7"
   },
   "source": [
    "An advantage of working with networkx is that we can easily draw and inspect the graphs we define using the built in draw function."
   ]
  },
  {
   "cell_type": "code",
   "execution_count": null,
   "metadata": {
    "id": "46Jh5qFF-Ot1"
   },
   "outputs": [],
   "source": [
    "nx.draw(G)"
   ]
  },
  {
   "cell_type": "markdown",
   "metadata": {
    "id": "H9ncQu1OKV4y"
   },
   "source": [
    "Can you change the adjecency matrix A so that the graph G will be a triangle instead?"
   ]
  },
  {
   "cell_type": "code",
   "execution_count": null,
   "metadata": {
    "id": "lWBwUt6QKa0g"
   },
   "outputs": [],
   "source": [
    "# TODO: modify the matrix A, so that G will be a triangle.\n",
    "A_triang = np.array([[0, 1, 0],\n",
    "                    [1, 0, 1],\n",
    "                    [0, 1, 0]])\n",
    "\n",
    "G_triang = nx.from_numpy_array(A_triang)\n",
    "nx.draw(G_triang)\n",
    "if nx.triangles(G_triang,0) == 0:\n",
    "  print(\"There is no triangle!\")\n",
    "else:\n",
    "  print(\"Yes, finally I have become a triangle graph.\")"
   ]
  },
  {
   "cell_type": "markdown",
   "metadata": {
    "id": "8F5WUEw2K4k3"
   },
   "source": [
    "You can also use the networkx way of building a graph."
   ]
  },
  {
   "cell_type": "code",
   "execution_count": null,
   "metadata": {
    "id": "XduNNyVQLGpx"
   },
   "outputs": [],
   "source": [
    "import networkx as nx\n",
    "\n",
    "# create a networkx graph\n",
    "G2 = nx.Graph()\n",
    "\n",
    "# add an edge between nodes 0, 1 ....\n",
    "G2.add_edge(0,1)\n",
    "G2.add_edge(1,2)\n",
    "G2.add_edge(1,3)\n",
    "G2.add_edge(3,4)\n",
    "G2.add_edge(3,5)\n",
    "\n",
    "nx.draw(G2)"
   ]
  },
  {
   "cell_type": "code",
   "execution_count": null,
   "metadata": {
    "id": "XG3kn8I5LKhP"
   },
   "outputs": [],
   "source": [
    "import networkx as nx\n",
    "\n",
    "G = nx.Graph()\n",
    "G.add_edge(0,1)\n",
    "G.add_edge(1,2)\n",
    "G.add_edge(1,3)\n",
    "G.add_edge(3,4)\n",
    "G.add_edge(3,5)\n",
    "\n",
    "G.add_edge(6,7)\n",
    "G.add_edge(7,8)\n",
    "G.add_edge(8,9)\n",
    "G.add_edge(9,6)\n",
    "\n",
    "G.add_edge(10,11)\n",
    "G.add_edge(11,12)\n",
    "G.add_edge(12,10)\n",
    "\n",
    "# TODO: add the 'L' for HODL add 3 nodes 13,14,15 to the graph to make the L\n",
    "# G.add ....\n",
    "\n",
    "\n",
    "{0: (0,0)}\n",
    "\n",
    "pos = {0: (0,1),1: (0,0),2: (0,-1),3: (1,0),4: (1,1),5: (1,-1),\n",
    "       6: (2,-1),7: (3,-1),8: (3,1),9: (2,1),\n",
    "       10: (4,-1),11: (4,1),12: (5,0),\n",
    "       13: (6,1),14: (6,-1),15: (7,-1)}\n",
    "\n",
    "nx.draw(G, pos = pos)"
   ]
  },
  {
   "cell_type": "markdown",
   "metadata": {
    "id": "VrmifFJmLjuH"
   },
   "source": [
    "Can you define a graph that consist of 4 nodes and 4 eges that build a cycle the \"networkx way\"?"
   ]
  },
  {
   "cell_type": "code",
   "execution_count": null,
   "metadata": {
    "id": "r8Aqr6CiLwCE"
   },
   "outputs": [],
   "source": [
    "# create a networkx graph\n",
    "G3 = nx.Graph()\n",
    "\n",
    "# add the edges to complete the cycle\n",
    "G3.add_edge(0,1)\n",
    "# ... TODO: add more edges\n",
    "\n",
    "nx.draw(G3)"
   ]
  },
  {
   "cell_type": "markdown",
   "metadata": {
    "id": "s1DrG7WpALbd"
   },
   "source": [
    "There exist also other ways to represent the graph.\n",
    "\n",
    "A popular choice is the **adjecency list**.\n",
    "Instead of having an entry for each individual edge (as in the adjecency matrix) we store for each node $u$ all its neighbors in a list."
   ]
  },
  {
   "cell_type": "code",
   "execution_count": null,
   "metadata": {
    "id": "Y1uRLipUDG5e"
   },
   "outputs": [],
   "source": [
    "# Convert between different graph representations.\n",
    "print(G)\n",
    "nx.draw(G)\n",
    "# Get the adjecency list of graph G\n",
    "adj_list = nx.to_dict_of_lists(G)\n",
    "for node in adj_list:\n",
    "  print(f\"node {node} is connected to: {adj_list[node]}\")"
   ]
  },
  {
   "cell_type": "markdown",
   "metadata": {
    "id": "kwB9rIHtAZQ_"
   },
   "source": [
    "Another way would be to instead just keep a list of edges that are present in the graph. This is the way pytorch geometric stores the graphs and how we will work with them when we use graph neural networks. From now on, we will refer to this representation as the **edge index**.\n",
    "\n",
    "But don't worry you don't have to convert between all these different graph representations yourself.\n",
    "Networkx to the rescue! We can easily convert from one representation to the other."
   ]
  },
  {
   "cell_type": "code",
   "execution_count": null,
   "metadata": {
    "id": "H1mVm822FV6R"
   },
   "outputs": [],
   "source": [
    "# Convert between different graph representations\n",
    "from torch_geometric.utils.convert import to_networkx, from_networkx\n",
    "\n",
    "print(G)\n",
    "nx.draw(G)\n",
    "\n",
    "# to go from a networkx to a 'torch' graph we can use from_networkx\n",
    "# TODO: call from_networkx() to build the torch graph\n",
    "# torch_graph = ....\n",
    "\n",
    "print(torch_graph)\n",
    "# this returns a torch data object, to get the edge index, we can call\n",
    "print(torch_graph.edge_index)\n",
    "\n",
    "for i in range(torch_graph.edge_index.shape[1]):\n",
    "  a = torch_graph.edge_index[0][i]\n",
    "  b = torch_graph.edge_index[1][i]\n",
    "  print(f\"edge {i} is from {a} to {b}\")\n"
   ]
  },
  {
   "cell_type": "markdown",
   "metadata": {
    "id": "8jsoNl_aGqMC"
   },
   "source": [
    "Note that the edge_index is a tensor! It is of shape (2, x) where x is the number of edges in the graph. By default, pytorch expects the graphs to be directed, meaning that an edge always goes from a to b. Therefore, each of our undirected edges has to have 2 edge entries."
   ]
  },
  {
   "cell_type": "code",
   "execution_count": null,
   "metadata": {
    "id": "SnK5EKo4HMRp"
   },
   "outputs": [],
   "source": [
    "print(torch_graph.edge_index.shape)"
   ]
  },
  {
   "cell_type": "markdown",
   "metadata": {
    "id": "f9phwQbQHZJ2"
   },
   "source": [
    "small exercise: can you complete the edge index to get back an undirected triangle?"
   ]
  },
  {
   "cell_type": "code",
   "execution_count": null,
   "metadata": {
    "id": "JNMSa_2wHgwf"
   },
   "outputs": [],
   "source": [
    "tG = torch_graph.clone()\n",
    "\n",
    "#TODO: adjust the edge index to include the additional edge to complete the triangle, remember to include the edge in both directions!\n",
    "tG.edge_index = torch.tensor([\n",
    "              [0, 1, 1, 2], # add edge\n",
    "              [1, 0, 2, 1]\n",
    "          ])\n",
    "# convert the torch object to networkx\n",
    "networkx_tG = to_networkx(tG).to_undirected(True)\n",
    "\n",
    "# draw and check if it is a triangle\n",
    "nx.draw(networkx_tG)\n",
    "if nx.triangles(networkx_tG,0) == 0:\n",
    "  print(\"There is no triangle!\")\n",
    "else:\n",
    "  print(\"Yes, finally I have become a triangle graph.\")"
   ]
  },
  {
   "cell_type": "markdown",
   "metadata": {
    "id": "NSJJlg4hKi6p"
   },
   "source": [
    "Note that whenever we refer to a single node, we usually give it a number (sometimes also called ID). How we assign these numbers is up to us. We can choose different assingments of the nodes to their IDs, but the underlying graph is still the same.\n",
    "\n",
    "Unfortunately, if we only look at the graph representation it is hard to figure out if two graphs are actually the same graph!\n",
    "To figure out if two graphs are the same is known as the [graph isomorphism problem](https://en.wikipedia.org/wiki/Graph_isomorphism_problem) and is an open problem.\n",
    "\n",
    "Let's look at the two graph respresentations of graph_A and graph_B. Their matrix representation is different. But are they different graphs?"
   ]
  },
  {
   "cell_type": "code",
   "execution_count": null,
   "metadata": {
    "id": "5GHS3CBuMtpX"
   },
   "outputs": [],
   "source": [
    "graph_A = np.array([\n",
    "    [0., 1., 0., 0., 0., 0.],\n",
    "    [1., 0., 1., 1., 0., 0.],\n",
    "    [0., 1., 0., 0., 0., 0.],\n",
    "    [0., 1., 0., 0., 1., 1.],\n",
    "    [0., 0., 0., 1., 0., 0.],\n",
    "    [0., 0., 0., 1., 0., 0.]])\n",
    "\n",
    "graph_B = np.array([\n",
    "    [0., 0, 1, 0., 0., 0.],\n",
    "    [0., 0, 1, 0., 0., 0.],\n",
    "    [1., 1, 0, 1., 0., 0.],\n",
    "    [0., 0, 1, 0., 1., 1.],\n",
    "    [0., 0., 0., 1., 0., 0.],\n",
    "    [0., 0., 0., 1., 0., 0.]])\n",
    "\n",
    "print(\"Matrix of graph_A\\n\", graph_A)\n",
    "print(\"Matrix of graph_B\\n\", graph_B)\n",
    "\n",
    "print(\"Are the matrices the same: \", np.array_equal(graph_A, graph_B))\n",
    "\n"
   ]
  },
  {
   "cell_type": "markdown",
   "metadata": {
    "id": "nJZFKWuCQh85"
   },
   "source": [
    "We can inspect the graphs when we draw them. What do you think, are they the same graphs or not?"
   ]
  },
  {
   "cell_type": "code",
   "execution_count": null,
   "metadata": {
    "id": "SOUuRSfUQpfJ"
   },
   "outputs": [],
   "source": [
    "import matplotlib.pyplot as plt\n",
    "\n",
    "# convert the graphs to networx\n",
    "g_A = nx.from_numpy_array(graph_A)\n",
    "g_B = nx.from_numpy_array(graph_B)\n",
    "\n",
    "#TODO: draw both graphs in order to compare them\n",
    "\n",
    "print(\"Draw Graph A\")\n",
    "# ... draw A\n",
    "plt.show()\n",
    "print(\"Draw Graph B\")\n",
    "# ... draw B"
   ]
  },
  {
   "cell_type": "markdown",
   "metadata": {
    "id": "W9XBPsdHRqeE"
   },
   "source": [
    "## Graph Generation and Processing"
   ]
  },
  {
   "cell_type": "markdown",
   "metadata": {
    "id": "R6SQ2ujyRvnJ"
   },
   "source": [
    "For certain tasks we might want to test on a synthetic dataset that we generate ourself in order to test how our models work on different classes of graphs.  \n",
    "\n",
    "In other cases, we can work with a graph dataset that is given to us. However, maybe we still want to add some additional features or want to preprocess and remove certain nodes.\n",
    "\n",
    "This section is all about how to generate and/or prepare the graph data properly so that we can work, learn and train models with them.\n",
    "\n",
    "\n",
    "\n"
   ]
  },
  {
   "cell_type": "code",
   "execution_count": null,
   "metadata": {
    "id": "uw7aXUPCEQdA"
   },
   "outputs": [],
   "source": [
    "import networkx as nx\n",
    "\n",
    "# define a class to generate graphs\n",
    "class Trees():\n",
    "    def __init__(self):\n",
    "        super().__init__()\n",
    "\n",
    "\n",
    "    # we call this to generate a graph with a certain number of nodes\n",
    "    def gen_graph(self, num_nodes, num):\n",
    "\n",
    "        # we can use networkx to generate us a random tree\n",
    "        nx_graph = nx.random_labeled_tree(n=num_nodes, seed=num)\n",
    "\n",
    "        # convert the nx representation to something torch understands\n",
    "        # TODO: convert the networkx graph to pytorch graph as seen before\n",
    "        # tree = ...\n",
    "\n",
    "        return tree\n",
    "\n",
    "    # we call this to generate a dataset\n",
    "    def makedata(self, num_graphs = 200, num_nodes = 8):\n",
    "        return [self.gen_graph(num_nodes, i) for i in range(num_graphs)]\n",
    "\n",
    "\n"
   ]
  },
  {
   "cell_type": "code",
   "execution_count": null,
   "metadata": {
    "id": "d4-54mPEW05V"
   },
   "outputs": [],
   "source": [
    "# Now let's generate a dataset of 100 graphs of size 20\n",
    "#tree_dataset = Trees().makedata(num_graphs = #TODO, num_nodes = #TODO)\n",
    "\n",
    "# draw the first graph\n",
    "nx.draw(to_networkx(tree_dataset[0]))"
   ]
  },
  {
   "cell_type": "markdown",
   "metadata": {
    "id": "3wWk-zmPXsyq"
   },
   "source": [
    "Let's inspect the datapoint that we have generated. It is a pytorch geometric 'Data' Object.\n",
    "We can inspect and access the edge_index that defines the graph structure and the number of nodes."
   ]
  },
  {
   "cell_type": "code",
   "execution_count": null,
   "metadata": {
    "id": "UimKgLBiXkLV"
   },
   "outputs": [],
   "source": [
    "datapoint = tree_dataset[0]\n",
    "print(datapoint)\n",
    "\n",
    "# TODO: print the number of nodes and the edge index separately\n",
    "# todo print(datapoint. ...)\n",
    "\n"
   ]
  },
  {
   "cell_type": "markdown",
   "metadata": {
    "id": "Z0CBzkk5YKAl"
   },
   "source": [
    "We can also add other attributes to the 'Data' Object. What if we want the nodes to have different features. Maybe we want to create a dataset consisiting of trees where all nodes with degree smaller than 2 have one color and all nodes with degree larger than two share another color.\n",
    "\n",
    "We can do this by adding a .x attribute when we generate the graphs. This assigns a vector (the initial features) to each node."
   ]
  },
  {
   "cell_type": "code",
   "execution_count": null,
   "metadata": {
    "id": "rBRTG4h6YiDl"
   },
   "outputs": [],
   "source": [
    "import networkx as nx\n",
    "\n",
    "# define a class to generate graphs\n",
    "class Trees():\n",
    "    def __init__(self):\n",
    "        super().__init__()\n",
    "\n",
    "\n",
    "    # we call this to generate a graph with a certain number of nodes\n",
    "    def gen_graph(self, num_nodes, num):\n",
    "\n",
    "        # we can use networkx to generate us a random tree\n",
    "        nx_graph = nx.random_labeled_tree(n=num_nodes, seed=num)\n",
    "\n",
    "        # convert the nx representation to something torch understands\n",
    "        tree = from_networkx(nx_graph)\n",
    "\n",
    "        # Initialize the features with all zeros\n",
    "        tree.x = torch.zeros(num_nodes, 1)\n",
    "\n",
    "        # Go through each node and check it's degree\n",
    "        for node in nx_graph.nodes():\n",
    "          deg = nx_graph.degree(node)\n",
    "\n",
    "          # TODO: set tree.x entry at position node to 1 if degree is less than 2 and otherwise to 0\n",
    "          # ....\n",
    "        return tree\n",
    "\n",
    "    # we call this to generate a dataset\n",
    "    def makedata(self, num_graphs = 200, num_nodes = 8):\n",
    "        return [self.gen_graph(num_nodes, i) for i in range(num_graphs)]\n",
    "\n",
    "\n",
    "\n",
    "tree_dataset = Trees().makedata(num_graphs = 100, num_nodes = 20)\n",
    "\n",
    "# draw the data where colors are defined over the x attribute\n",
    "print(\"The initial node features are: \\n\",tree_dataset[0].x)\n",
    "nx.draw(to_networkx(tree_dataset[0]), node_color=tree_dataset[0].x)"
   ]
  },
  {
   "cell_type": "markdown",
   "metadata": {
    "id": "6nK_sTj8bWbJ"
   },
   "source": [
    "Similarly, we can also add a .y attribute to assign ground truth data to nodes."
   ]
  },
  {
   "cell_type": "code",
   "execution_count": null,
   "metadata": {
    "id": "pfmPM9EycBhh"
   },
   "outputs": [],
   "source": [
    "import networkx as nx\n",
    "\n",
    "# define a class to generate graphs\n",
    "class Trees():\n",
    "    def __init__(self):\n",
    "        super().__init__()\n",
    "\n",
    "\n",
    "    # we call this to generate a graph with a certain number of nodes\n",
    "    def gen_graph(self, num_nodes, num):\n",
    "\n",
    "        # we can use networkx to generate us a random tree\n",
    "        nx_graph = nx.random_labeled_tree(n=num_nodes, seed=num)\n",
    "\n",
    "        # convert the nx representation to something torch understands\n",
    "        tree = from_networkx(nx_graph)\n",
    "\n",
    "        # Initialize the features with all zeros\n",
    "        tree.x = torch.zeros(num_nodes, 1)\n",
    "\n",
    "        # Initialize the features with all zeros\n",
    "        tree.y = torch.zeros(num_nodes, 1)\n",
    "\n",
    "        # Go through each node and check it's degree\n",
    "        for node in nx_graph.nodes():\n",
    "          deg = nx_graph.degree(node)\n",
    "\n",
    "          # TODO: set tree.y entry at position node to 1 if degree is exactly 1 and otherwise to 0\n",
    "          # ....\n",
    "        return tree\n",
    "\n",
    "    # we call this to generate a dataset\n",
    "    def makedata(self, num_graphs = 200, num_nodes = 8):\n",
    "        return [self.gen_graph(num_nodes, i) for i in range(num_graphs)]\n",
    "\n",
    "\n",
    "\n",
    "tree_dataset = Trees().makedata(num_graphs = 100, num_nodes = 20)\n",
    "\n",
    "# draw the data where colors are defined over the x attribute\n",
    "print(\"The initial node features are: \\n\",tree_dataset[0].y)\n",
    "nx.draw(to_networkx(tree_dataset[0]), node_color=tree_dataset[0].y)"
   ]
  },
  {
   "cell_type": "markdown",
   "metadata": {
    "id": "5aJxplsIcY60"
   },
   "source": [
    "Now it is your turn. Can you create a dataset that consists of trees where all nodes have a feature that is sampled uniformly at random from the interval $[0,1]$. Furthermore, the .y groundtruth should be 1 for all nodes that have at least one neighbor that has an .x feature above 0.8 and otherwise 0."
   ]
  },
  {
   "cell_type": "code",
   "execution_count": null,
   "metadata": {
    "id": "sqolvhH7lOPQ"
   },
   "outputs": [],
   "source": [
    "import networkx as nx\n",
    "\n",
    "# define a class to generate graphs\n",
    "class ValueTrees():\n",
    "    def __init__(self):\n",
    "        super().__init__()\n",
    "\n",
    "\n",
    "    # we call this to generate a graph with a certain number of nodes\n",
    "    def gen_graph(self, num_nodes, num):\n",
    "\n",
    "        # we can use networkx to generate us a random tree\n",
    "\n",
    "        # TODO generate a tree of size num_nodes, you can look it up in the documentation / google for networkx\n",
    "        nx_graph =\n",
    "\n",
    "        # convert the nx representation to something torch understands\n",
    "        tree = from_networkx(nx_graph)\n",
    "\n",
    "        # Initialize the x with random values, make sure that you use (num_nodes, 1)\n",
    "        tree.x = # TODO random values between [0,1] (Hint torch.rand)\n",
    "\n",
    "        # Initialize the y with all zeros\n",
    "        tree.y = torch.zeros(num_nodes, 1)\n",
    "\n",
    "        # Go through each node and check it's degree\n",
    "        for node in nx_graph.nodes():\n",
    "          maxNeighborValue = 0\n",
    "          # compute the maximum value of all neighbors, you can access the list of neighbors using\n",
    "          # nx_graph.neighbors(node) and the x value of a node using tree.x[ID]\n",
    "          #maxNeighborValue = # TODO: compute\n",
    "\n",
    "          # TODO: set tree.y entry at position node to 1 if maxNeighborValue is greater than 0.8\n",
    "          # tree.y[node] = ....\n",
    "        return tree\n",
    "\n",
    "    # we call this to generate a dataset\n",
    "    def makedata(self, num_graphs = 200, num_nodes = 8):\n",
    "        return [self.gen_graph(num_nodes, i) for i in range(num_graphs)]\n",
    "\n",
    "\n",
    "\n",
    "tree_dataset = ValueTrees().makedata(num_graphs = 100, num_nodes = 20)\n",
    "\n",
    "# draw the data where colors are defined over the x attribute\n",
    "print(\"The initial node features are: \\n\",tree_dataset[0].x)\n",
    "nx.draw(to_networkx(tree_dataset[0]), node_color=tree_dataset[0].y)"
   ]
  },
  {
   "cell_type": "markdown",
   "metadata": {
    "id": "TS5GGzzArSEa"
   },
   "source": [
    "# Graph Neural Networks\n",
    "\n",
    "Now that we have recapped what a graph is, how we can represent it and how we can generate graph data we can start with Graph Neural Networks.\n",
    "\n",
    "Recall, that whenever we work with data, we need the data to be represented as tensors. Previously, we worked with images, which always had a fixed size and we could easily represent them as a matrix (and then flatten to a 1D tensor). Then we moved on to words, which were a bit more tricky. We first had to find a sensible vector representation for each word, then we could easily work with them as tensors.\n",
    "\n",
    "For graphs, it is a bit more involved. In the first section, we have seen different ways how we can represent a graph. Unfortunately, there were multiple representations of the same graph because we can relabel (assign new numbers) to the nodes. However, we would like to compute the same function for a graph no matter the assignment of numbers we chose when representing the graph. This is something we call **permutation equivariant**. The relabeling can be expressed as a permutation and no matter the labeling we choose, we want to compute the same outcome. This is very simililar to the problem we encountered when we were learning functions on sets.\n",
    "\n",
    "This is where Graph Neural Networks come in.\n",
    "Instead of representing the graph structure in a specific way and then learn with it we will directly learn on the graph structure itself!"
   ]
  },
  {
   "cell_type": "markdown",
   "metadata": {
    "id": "Fu1VYswsrUls"
   },
   "source": [
    "### Message Passing\n",
    "\n",
    "The main idea of a Graph Neural Network is to compute/learn directly on the graph structure in order to preserve permutation invariance. We do this through something called Round Based Message Passing.\n",
    "Every node starts with some initial vector that represents its own state. Then we execute multiple rounds. In each round the node can send a message (usually its own state) to its neighbors. Then each node collects all the messages it receives, aggregates them and computes its state for the next round.\n",
    "\n",
    "A simplified example of 2 rounds of message passing from the viewpoint of node $A$ is shown below.\n",
    "The different node states are represented as different colors. The aggregation (collection of incoming messages and combining them into a new state) is visualized as a grey box. In the first round node B receives a message from A and C. Similarly, D receives a message from A and C from A,B,E and F. Then, each node aggregates the incoming messages and computes its state for the second round. In the second round, A receives a message from B, C, D respectively."
   ]
  },
  {
   "cell_type": "markdown",
   "metadata": {
    "id": "2GDCG0UR0ahB"
   },
   "source": [
    "![6ZnODG0.png](data:image/png;base64,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)"
   ]
  },
  {
   "cell_type": "markdown",
   "metadata": {
    "id": "L_EJlOrM2CFy"
   },
   "source": [
    "Note that this is only the view for node A. There are many more messages that are exchanged in the graph.\n",
    "One such round is often also refered to as a **Graph Convolution**.\n",
    "\n",
    "We can write down the steps of a single round as the following process:\n",
    "Let $x_u^t$ be the state of node $u$ at time $t$.\n",
    "\n",
    "\n",
    "$m^{t} = AGGREGATE(x_u^t, \\{x_v | v \\in N(u)\\})$\n",
    "\n",
    "the message $m$ at time $t$ is computed by the aggregation of the set of neighbors of $u$ and $u$.\n",
    "\n",
    "$x_u^{t+1} = UPDATE(x_u^t, m^t)$\n",
    "\n",
    "to compute the new state of node $u$ we take the previous state and the aggregated messages."
   ]
  },
  {
   "cell_type": "markdown",
   "metadata": {
    "id": "o6KliYFz2aNB"
   },
   "source": [
    "### Aggregation\n",
    "\n",
    "A key question in the design of GNN models is to choose the aggregation function which defines how we can combine the different incoming messages from our neighbors. Note that the aggregate function takes as input a (multi)set of neighboring states $\\{x_v \\mid v \\in N(u)\\}$. How can we learn when we are given a set as input? We can reuse the techniques we have seen for DeepSet.\n",
    "\n",
    "\n",
    "\n",
    "\n",
    "Recall, that we want to combine the messages in a special way, so that the order of the messages does not matter. This is also refered to as **permutation invariance**. The intuition behind this requirement is that we can not rely on a given enumeration or labeling of the nodes. Therefore, no matter in what order we process the messages, we should always compute the same outcome.\n",
    "\n",
    "First, this might seem very restriciting, but you are already familiar with several permutation invariant aggregations.\n",
    "One popular choice is to use the sum operation. Here all the incoming messages get summed up and no matter the ordering, the final sum will always be the same.\n",
    "\n",
    "aggregation of $u$'s messages: $\\sum_{v \\in N(u)} x_v$\n",
    "\n",
    "We can also quickly verify this ourselfs."
   ]
  },
  {
   "cell_type": "code",
   "execution_count": null,
   "metadata": {
    "id": "NKca9QQLNBNS"
   },
   "outputs": [],
   "source": [
    "def check_permutation(aggr, ):\n",
    "  # create some random messages for us to check\n",
    "  x = torch.rand((20,10))\n",
    "  for i in range(20):\n",
    "    x2=x[torch.randperm(x.size()[0])]\n",
    "    if torch.norm(aggr(x2)-aggr(x)) > 0.0001:\n",
    "      #print(\"not permutation invariant\")\n",
    "      return False\n",
    "  #print(\"should be permutation invariant\")\n",
    "  return True\n",
    "\n",
    "\n",
    "def sum_aggr(X):\n",
    "  s = torch.zeros(10)\n",
    "  for x in X:\n",
    "    s += x\n",
    "  return s\n",
    "\n",
    "print(f\"Sum aggregation is permuation invariant: {check_permutation(sum_aggr)}\")"
   ]
  },
  {
   "cell_type": "markdown",
   "metadata": {
    "id": "6DYw2eYwwT7c"
   },
   "source": [
    "Can you find two aggregation functions that are permuatation invariant and one that is not?"
   ]
  },
  {
   "cell_type": "code",
   "execution_count": null,
   "metadata": {
    "id": "YX-E-vnj_ZSP"
   },
   "outputs": [],
   "source": [
    "def perm_1(X):\n",
    "  # TODO initialize a dummy value with all zeros\n",
    "  s = torch.rand(10) #change\n",
    "\n",
    "  # TODO: combine the messages in a permutation invariant way\n",
    "  for x in X:\n",
    "    pass\n",
    "\n",
    "  # return the aggregated value\n",
    "  return s\n",
    "\n",
    "def perm_2(X):\n",
    "  # TODO initialize a dummy value with all zeros\n",
    "  s = torch.rand(10) #change\n",
    "\n",
    "  # TODO: combine the messages in a permutation invariant way\n",
    "  for x in X:\n",
    "    pass\n",
    "\n",
    "  # return the aggregated value\n",
    "  return s\n",
    "\n",
    "def not_perm(X):\n",
    "  # initialize a dummy value with all zeros\n",
    "  s = torch.zeros(10)\n",
    "\n",
    "  # TODO: combine the messages so that they are NOT permuation invariant\n",
    "  for x in X:\n",
    "    pass\n",
    "\n",
    "  # return the aggregated value\n",
    "  return s"
   ]
  },
  {
   "cell_type": "code",
   "execution_count": null,
   "metadata": {
    "id": "mXDUi1yAw7sV"
   },
   "outputs": [],
   "source": [
    "for f,s in [(perm_1, 'perm_1'), (perm_2, 'perm_2'), (not_perm, 'not_perm')]:\n",
    "  if 'not' in s:\n",
    "    if check_permutation(f):\n",
    "      print(f\"NO  {s} is permutation invariant, try again\")\n",
    "    else:\n",
    "      print(f\"YES  {s} is not invariant\")\n",
    "  else:\n",
    "    if check_permutation(f):\n",
    "      print(f\"YES {s} is permutation invariant\")\n",
    "    else:\n",
    "      print(f\"NO  {s} is not yet invariant, try again\")"
   ]
  },
  {
   "cell_type": "markdown",
   "metadata": {
    "id": "du2zOM80yNjE"
   },
   "source": [
    "For the $UPDATE$ step we could do something simple as just taking the computed messages. However, usually we compute the new state by combining the previous state and the message to a single tensor and put it through an MLP. This way we can let the GNN learn the UPDATE function."
   ]
  },
  {
   "cell_type": "markdown",
   "metadata": {
    "id": "a60GmQi5yRgX"
   },
   "source": [
    "## First GNN\n",
    "Let's implement our first Graph Neural Network using a graph convolution called GIN ([paper](https://arxiv.org/pdf/1810.00826.pdf)). GIN uses sum aggregation and then has an MLP for the update step. The entire computation for a single convolution (round) is defined as:\n",
    "\n",
    "$\\displaystyle x_v^{(t+1)} = \\Theta((1+\\epsilon)\\cdot x_v^{(t)} + \\sum_{u \\in N(v)} x_u^{(t)})$\n",
    "\n",
    "where $x_v^{(t)}$ is the embedding of node $v$ at iteration $t$. In every iteration we execute the convolution synchronously for all nodes. For every node $v$, it aggreagates all neighboring states by summing them up and combines them with the old state of $v$ (using some learnable parameter $\\epsilon$). The result is then passed through the MLP $\\Theta$.\n",
    "Let's see how to use this convolutional layer."
   ]
  },
  {
   "cell_type": "code",
   "execution_count": 15,
   "metadata": {
    "id": "sOO6dOyZyUye"
   },
   "outputs": [],
   "source": [
    "import torch\n",
    "import torch.nn.functional as F\n",
    "\n",
    "# The GIN convolution itself is already implemented and ready to use\n",
    "from torch_geometric.nn import GINConv\n",
    "\n",
    "# A GNN looks very similar to any other neural network that we implement in pytorch\n",
    "class GIN(torch.nn.Module):\n",
    "    def __init__(self):\n",
    "        super().__init__()\n",
    "\n",
    "        # The MLP \\Theta for our GIN convolution\n",
    "        self.network1 = torch.nn.Sequential(torch.nn.Linear(1, 8), torch.nn.ReLU(), torch.nn.Linear(8, 2))\n",
    "\n",
    "        # To define our GIN convolution, we have to pass the neural network \\Theta that we want to use\n",
    "        self.conv1 = GINConv(nn = self.network1)\n",
    "\n",
    "    # We pass the data object that we previously introduced to the network\n",
    "    def forward(self, data):\n",
    "        # From it, we get the node features x and the edge index\n",
    "        x, edge_index = data.x, data.edge_index\n",
    "\n",
    "        # We pass x and edge_index to the convolution\n",
    "        x = self.conv1(x, edge_index)\n",
    "        x = F.relu(x)\n",
    "\n",
    "        # Here we apply a log_softmax as we will use the return value for a NLLLoss\n",
    "        return F.log_softmax(x, dim=1)"
   ]
  },
  {
   "cell_type": "markdown",
   "metadata": {
    "id": "gOHHaHdCXf1E"
   },
   "source": [
    "Now that we have our first GNN, let's use it on a dataset! The Tree dataset contains trees with leaf nodes marked as 1 and non-leaf nodes as 0 in the ground-truth. But first, we need some boilerplate code for our training loop. There is nothing unexpected here, we just run 20 epochs of training."
   ]
  },
  {
   "cell_type": "code",
   "execution_count": null,
   "metadata": {
    "id": "mrwnCqie4J91"
   },
   "outputs": [],
   "source": [
    "import torch.optim as optim\n",
    "from torch_geometric.loader import DataLoader\n",
    "\n",
    "def train_model(model, dataset, epochs = 20):\n",
    "  # define our loss and optimizer\n",
    "  criterion = torch.nn.NLLLoss()\n",
    "  optimizer = optim.Adam(model.parameters(), lr=0.01)\n",
    "\n",
    "\n",
    "  #prepare the data\n",
    "  val_split = 0.8\n",
    "  np.random.shuffle(dataset)\n",
    "  train_size = int(val_split*len(dataset))\n",
    "  train_loader = DataLoader(dataset[:train_size], batch_size=1, shuffle=True)\n",
    "\n",
    "  # train the model\n",
    "  model.train()\n",
    "\n",
    "  for epoch in range(epochs):\n",
    "      running_loss = 0.0\n",
    "      for i, data in enumerate(train_loader):\n",
    "          optimizer.zero_grad()\n",
    "\n",
    "          # run the GNN\n",
    "          data = data.to(device)\n",
    "          pred = model(data)\n",
    "\n",
    "          loss = criterion(pred, data.y.to(torch.long))\n",
    "          loss.backward()\n",
    "          optimizer.step()\n",
    "\n",
    "          running_loss += loss.item()\n",
    "      print(f'Epoch: {epoch + 1} loss: {running_loss / len(train_loader.dataset):.5f}')\n",
    "      running_loss = 0.0"
   ]
  },
  {
   "cell_type": "code",
   "execution_count": null,
   "metadata": {
    "id": "RIvCNDLM28Xz"
   },
   "outputs": [],
   "source": [
    "# an example tree class for our first GNN\n",
    "class Trees():\n",
    "    def __init__(self):\n",
    "        super().__init__()\n",
    "\n",
    "    def gen_graph(self, num_nodes, num):\n",
    "        nx_graph = nx.random_labeled_tree(n=num_nodes, seed=num)\n",
    "        tree = from_networkx(nx_graph)\n",
    "        leafs = [x for x in nx_graph.nodes() if nx_graph.degree(x)==1]\n",
    "        tree.x = torch.ones(num_nodes, 1)\n",
    "        tree.y = torch.zeros(num_nodes)\n",
    "        for node in leafs:\n",
    "            tree.y[node] = 1\n",
    "        return tree\n",
    "\n",
    "    def makedata(self, num_graphs = 200, num_nodes = 8):\n",
    "        return [self.gen_graph(num_nodes, i) for i in range(num_graphs)]"
   ]
  },
  {
   "cell_type": "code",
   "execution_count": null,
   "metadata": {
    "id": "NRHI8FXG3b5v"
   },
   "outputs": [],
   "source": [
    "# Fix seeds for good measure\n",
    "import random\n",
    "\n",
    "seed = 1\n",
    "random.seed(seed)\n",
    "np.random.seed(seed)\n",
    "torch.manual_seed(seed)\n",
    "\n",
    "# Use the tree dataset\n",
    "dataset = Trees().makedata(num_graphs = 1000, num_nodes = 20)\n",
    "\n",
    "model = GIN().to(device)\n",
    "# Let's go!\n",
    "train_model(model, dataset, epochs = 5)"
   ]
  },
  {
   "cell_type": "markdown",
   "metadata": {
    "id": "Y8XMOXETyYfv"
   },
   "source": [
    "The loss nicely decreases, indicating that our network learns to detect leafs in trees. Before continuing with the tutorial you should stop for a moment and reflect upon the dimensions for the neural networks that were chosen in the GNN. Why do they make sense? What is the size of the input, what is the output and how do they interact with each other?"
   ]
  },
  {
   "cell_type": "markdown",
   "metadata": {
    "id": "EcvLcEfU4U2G"
   },
   "source": [
    "## Cora prediction\n",
    "The tree task was not particularly hard. Let's have a look at a second example, the Cora dataset. Cora consists of a graph where each node is a scientific paper and edges between the nodes correspond to citations between the different papers. The task is to classify what the subject of the paper is given some initial features and the citation graph."
   ]
  },
  {
   "cell_type": "code",
   "execution_count": null,
   "metadata": {
    "id": "a9EFC7RA4q23"
   },
   "outputs": [],
   "source": [
    "%matplotlib inline\n",
    "import matplotlib.pyplot as plt\n",
    "from sklearn.manifold import TSNE\n",
    "\n",
    "def visualize(h, color):\n",
    "    z = TSNE(n_components=2).fit_transform(h.detach().cpu().numpy())\n",
    "\n",
    "    plt.figure(figsize=(10,10))\n",
    "    plt.xticks([])\n",
    "    plt.yticks([])\n",
    "\n",
    "    plt.scatter(z[:, 0], z[:, 1], s=70, c=color, cmap=\"Set2\")\n",
    "    plt.show()"
   ]
  },
  {
   "cell_type": "markdown",
   "metadata": {
    "id": "olDDir1h_Klt"
   },
   "source": [
    "pytorch geometric already has the dataset setup, we can simply download it by executing the following."
   ]
  },
  {
   "cell_type": "code",
   "execution_count": null,
   "metadata": {
    "id": "bZjQ-6eb4w9M"
   },
   "outputs": [],
   "source": [
    "from torch_geometric.datasets import Planetoid\n",
    "from torch_geometric.transforms import NormalizeFeatures\n",
    "\n",
    "dataset = Planetoid(root='data/Planetoid', name='Cora', transform=NormalizeFeatures())\n",
    "\n",
    "print()\n",
    "print(f'Dataset: {dataset}:')\n",
    "print('======================')\n",
    "print(f'Number of graphs: {len(dataset)}')\n",
    "print(f'Number of features: {dataset.num_features}')\n",
    "print(f'Number of classes: {dataset.num_classes}')\n",
    "\n",
    "data = dataset[0]  # Get the first graph object.\n",
    "\n",
    "print()\n",
    "print(data)\n",
    "print('===========================================================================================================')\n",
    "\n",
    "# Gather some statistics about the graph.\n",
    "print(f'Number of nodes: {data.num_nodes}')\n",
    "print(f'Number of edges: {data.num_edges}')\n",
    "print(f'Average node degree: {data.num_edges / data.num_nodes:.2f}')\n",
    "print(f'Number of training nodes: {data.train_mask.sum()}')\n",
    "print(f'Training node label rate: {int(data.train_mask.sum()) / data.num_nodes:.2f}')\n",
    "print(f'Has isolated nodes: {data.has_isolated_nodes()}')\n",
    "print(f'Has self-loops: {data.has_self_loops()}')\n",
    "print(f'Is undirected: {data.is_undirected()}')"
   ]
  },
  {
   "cell_type": "markdown",
   "metadata": {
    "id": "zGRuD6RD_TGU"
   },
   "source": [
    "Next, we setup our GNN from before, we slightly adapt the number of in and out channels to match the format required by the cora dataset."
   ]
  },
  {
   "cell_type": "code",
   "execution_count": null,
   "metadata": {
    "id": "5Hj2qrN95ClG"
   },
   "outputs": [],
   "source": [
    "import torch\n",
    "import torch.nn.functional as F\n",
    "\n",
    "# The GIN convolution itself is already implemented and ready to use\n",
    "from torch_geometric.nn import GINConv\n",
    "\n",
    "# A GNN looks very similar to any other neural network that we implement in pytorch\n",
    "class GIN(torch.nn.Module):\n",
    "    def __init__(self, in_channels = 16, out_channels = 7):\n",
    "        super().__init__()\n",
    "\n",
    "        # The MLP \\Theta for our GIN convolution\n",
    "        dim = 128\n",
    "        self.network1 = torch.nn.Sequential(torch.nn.Linear(in_channels, dim), torch.nn.ReLU(), torch.nn.Linear(dim, out_channels))\n",
    "\n",
    "        # To define our GIN convolution, we have to pass the neural network \\Theta that we want to use\n",
    "        self.conv1 = GINConv(nn = self.network1)\n",
    "\n",
    "    # We pass the data object that we previously introduced to the network\n",
    "    def forward(self, data):\n",
    "        # From it, we get the node features x and the edge index\n",
    "        x, edge_index = data.x, data.edge_index\n",
    "\n",
    "        # We pass x and edge_index to the convolution\n",
    "        x = self.conv1(x, edge_index)\n",
    "\n",
    "\n",
    "        # Here we apply a log_softmax as we will use the return value for a NLLLoss\n",
    "        return x"
   ]
  },
  {
   "cell_type": "markdown",
   "metadata": {
    "id": "lTS9-TUj_gGd"
   },
   "source": [
    "We can already instantiate our model (note that it is not trained yet) and look at the output it produces. This might take a minute or two in order to plot the beautiful picture of the citation graph."
   ]
  },
  {
   "cell_type": "code",
   "execution_count": null,
   "metadata": {
    "id": "hWaRiP7F5ABl"
   },
   "outputs": [],
   "source": [
    "model = GIN(in_channels=1433 , out_channels = 7)\n",
    "model.eval()\n",
    "\n",
    "out = model(data)\n",
    "visualize(out, color=data.y)"
   ]
  },
  {
   "cell_type": "markdown",
   "metadata": {
    "id": "TsXO6XK0BrO7"
   },
   "source": [
    "What is exactly displayed on this image? For each node in the graph, we compute it's embedding. Note that this embedding is very high dimensional and we can not directly plot it in the 2D plane. First, we use TSNE, which tries to figure out how the highdimensional points can be plotted in the 2D plane. The different colors represent the different subject areas of the papers. If our GNN learns a sensible representation of the nodes, we should be able to find a visualization that groups them together and we can see different areas in the 2D plane which correspond to different classes.\n"
   ]
  },
  {
   "cell_type": "markdown",
   "metadata": {
    "id": "_ngIY3fP_uB2"
   },
   "source": [
    "The different colors correspond to the different classes the GNN has to predict. It's not that surprising that this picture is a wild mix with no structure. The GNN has simply not seen the data before and was not trained on it. Therefore the embedding the GNN finds is more or less just random. Let's change that now."
   ]
  },
  {
   "cell_type": "code",
   "execution_count": null,
   "metadata": {
    "id": "S-qgW6Uq54LV"
   },
   "outputs": [],
   "source": [
    "def train():\n",
    "      model.train()\n",
    "      optimizer.zero_grad()  # Clear gradients.\n",
    "      out = model(data)  # Perform a single forward pass.\n",
    "      loss = criterion(out[data.train_mask], data.y[data.train_mask])  # Compute the loss solely based on the training nodes.\n",
    "      loss.backward()  # Derive gradients.\n",
    "      optimizer.step()  # Update parameters based on gradients.\n",
    "      return loss\n",
    "\n",
    "def test():\n",
    "      model.eval()\n",
    "      out = model(data)\n",
    "      pred = out.argmax(dim=1)  # Use the class with highest probability.\n",
    "      test_correct = pred[data.test_mask] == data.y[data.test_mask]  # Check against ground-truth labels.\n",
    "      test_acc = int(test_correct.sum()) / int(data.test_mask.sum())  # Derive ratio of correct predictions.\n",
    "      return test_acc\n",
    "\n",
    "\n",
    "\n",
    "\n",
    "model = GIN(in_channels=1433 , out_channels = 7)\n",
    "optimizer = torch.optim.Adam(model.parameters(), lr=0.04, weight_decay=5e-4)\n",
    "criterion = torch.nn.CrossEntropyLoss()\n",
    "\n",
    "for epoch in range(1, 5):\n",
    "    loss = train()\n",
    "    print(f'Epoch: {epoch:03d}, Loss: {loss:.4f} Test Accuracy: {test():.4f}')\n"
   ]
  },
  {
   "cell_type": "code",
   "execution_count": null,
   "metadata": {
    "id": "PeykBcQJ6JTc"
   },
   "outputs": [],
   "source": [
    "test_acc = test()\n",
    "print(f'Test Accuracy: {test_acc:.4f}')"
   ]
  },
  {
   "cell_type": "markdown",
   "metadata": {
    "id": "YEEDKuO2AFqa"
   },
   "source": [
    "Let's have another look at what our model does, it is already better than just a random point cloud, but maybe we can improve it.\n",
    "Try to play around with the size of the MLP that we define in the GIN model (you can adjust the parameter 'dim'). What do you observe?"
   ]
  },
  {
   "cell_type": "code",
   "execution_count": null,
   "metadata": {
    "id": "COa3I3nq-NDN"
   },
   "outputs": [],
   "source": [
    "model.eval()\n",
    "\n",
    "out = model(data)\n",
    "visualize(out, color=data.y)"
   ]
  },
  {
   "cell_type": "markdown",
   "metadata": {
    "id": "efDnOt1nJvlx"
   },
   "source": [
    "Now the 2D plot should look much better and you might see the \"boundary\" between different class predictions."
   ]
  },
  {
   "cell_type": "markdown",
   "metadata": {
    "id": "SDG2gvWYBGJB"
   },
   "source": [
    "## Custom GNN"
   ]
  },
  {
   "cell_type": "markdown",
   "metadata": {
    "id": "2qgzCoKXZzyY"
   },
   "source": [
    "Until now we used the GIN convolution that is already provided by pytorch geometric. A nice comprehensive overview of all provided convolutions can be found here: [pytorch-geometric](https://pytorch-geometric.readthedocs.io/en/latest/notes/cheatsheet.html). Now what if we want to get more advanced and use our own convolution? In the following code snippet a new convolutional layer is defined."
   ]
  },
  {
   "cell_type": "markdown",
   "metadata": {
    "id": "O2B9o-PRBvQo"
   },
   "source": [
    "What if we want to customize the way our message passing works? For example, when we create the message that we send, we might want to consider the neighbor we send it to. So instead of just sending our own state $x_i$ we can adjust the convolution to send a message that is dependent on $x_i$ and $x_j$. We do this by applying an MLP that takes $x_i, x_j$ and outputs the message."
   ]
  },
  {
   "cell_type": "code",
   "execution_count": null,
   "metadata": {
    "id": "f10tcNNUCaJ_"
   },
   "outputs": [],
   "source": [
    "import torch\n",
    "import torch.nn.functional as F\n",
    "from torch_geometric.nn import GINConv\n",
    "from torch_geometric.nn import MessagePassing\n",
    "\n",
    "\n",
    "# Our own Graph Convolution\n",
    "# The secret is to use the MessagePassing class\n",
    "class CustomMP(MessagePassing):\n",
    "    def __init__(self, edge_nn, nn):\n",
    "        # Here we can define how we want our aggregation function to look like. Out of the box we can use 'add','mean', 'max', ...\n",
    "        super(CustomMP, self).__init__(aggr='mean')\n",
    "        self.edge_nn = edge_nn\n",
    "        self.nn = nn\n",
    "\n",
    "\n",
    "    # This defines how our convolution updates the state\n",
    "    def forward(self, x, edge_index):\n",
    "      # self.propagate does the aggregation of incoming messages\n",
    "      return x + self.nn(self.propagate(edge_index, x=x))\n",
    "\n",
    "\n",
    "\n",
    "    # Before we send a message, we can customize it\n",
    "    # access receiver x_i and sender x_j\n",
    "    def message(self, x_j, x_i):\n",
    "      # more elaborate example to look at both enpoints of an edge\n",
    "      concatted = torch.cat((x_j, x_i), dim=1)\n",
    "      return self.edge_nn(concatted)\n",
    "\n",
    "\n",
    "\n",
    "# This is a GNN as before that uses the new convolutional layer\n",
    "class AdvancedGNN(torch.nn.Module):\n",
    "    def __init__(self, in_channels = 1433, out_channels = 7):\n",
    "        super().__init__()\n",
    "\n",
    "        dim = 8\n",
    "        # define two MLP's, one to create the message and one to do the UPDATE\n",
    "        self.network = torch.nn.Sequential(torch.nn.Linear(dim, dim), torch.nn.ReLU())\n",
    "        self.edge_network = torch.nn.Sequential(torch.nn.Linear(2*dim, dim), torch.nn.ReLU() )\n",
    "\n",
    "        # create our own custom graph convolution\n",
    "        #TODO: initialize our Custom MP\n",
    "        self.conv = CustomMP(\n",
    "            edge_nn = None, #TODO, \n",
    "            nn = None #TODO\n",
    "        )\n",
    "\n",
    "        # We usually use an encoder to map the input size to the size of the convolution\n",
    "        self.encoder = torch.nn.Sequential(torch.nn.Linear(in_channels, dim), torch.nn.ReLU())\n",
    "        # and a decoder to map the gnn output to the output size we expect\n",
    "        self.decoder = torch.nn.Sequential(torch.nn.Linear(dim, out_channels))\n",
    "\n",
    "    def forward(self, data):\n",
    "        x, edge_index = data.x, data.edge_index\n",
    "\n",
    "        # apply encoder\n",
    "        x = self.encoder(x)\n",
    "\n",
    "        # apply graph convolutions\n",
    "        x = self.conv(x, edge_index)\n",
    "\n",
    "        # apply decoder\n",
    "        x = self.decoder(x)\n",
    "\n",
    "        # x should be logits for 2 classes\n",
    "        return F.log_softmax(x, dim=1)\n"
   ]
  },
  {
   "cell_type": "code",
   "execution_count": null,
   "metadata": {
    "id": "EbZKGO5EXYXK"
   },
   "outputs": [],
   "source": [
    "print(AdvancedGNN())\n",
    "# Fix seeds for good measure\n",
    "import random\n",
    "\n",
    "seed = 1\n",
    "random.seed(seed)\n",
    "np.random.seed(seed)\n",
    "torch.manual_seed(seed)\n",
    "\n",
    "# Use the tree dataset\n",
    "dataset = Trees().makedata(num_graphs = 1000, num_nodes = 20)\n",
    "\n",
    "model = AdvancedGNN(1,2).to(device)\n",
    "# Let's go!\n",
    "train_model(model, dataset, epochs = 5)"
   ]
  },
  {
   "cell_type": "markdown",
   "metadata": {
    "id": "mzGcrz6lXPzg"
   },
   "source": [
    "Great! Now you know how you can adjust your own graph convolution, maybe try to use a different aggregation than mean. Does it train better now?"
   ]
  }
 ],
 "metadata": {
  "accelerator": "GPU",
  "colab": {
   "collapsed_sections": [
    "uV2LwJbpTrdn",
    "N1BYJeiuGBOt",
    "2Vft52xJAUZx"
   ],
   "provenance": [],
   "toc_visible": true
  },
  "gpuClass": "standard",
  "kernelspec": {
   "display_name": "Python 3 (ipykernel)",
   "language": "python",
   "name": "python3"
  },
  "language_info": {
   "codemirror_mode": {
    "name": "ipython",
    "version": 3
   },
   "file_extension": ".py",
   "mimetype": "text/x-python",
   "name": "python",
   "nbconvert_exporter": "python",
   "pygments_lexer": "ipython3",
   "version": "3.11.10"
  }
 },
 "nbformat": 4,
 "nbformat_minor": 4
}
